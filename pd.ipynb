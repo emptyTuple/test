{
  "nbformat": 4,
  "nbformat_minor": 0,
  "metadata": {
    "colab": {
      "provenance": [],
      "toc_visible": true,
      "authorship_tag": "ABX9TyN8llbq0xQ9l0R2V1zheUTz",
      "include_colab_link": true
    },
    "kernelspec": {
      "name": "python3",
      "display_name": "Python 3"
    },
    "language_info": {
      "name": "python"
    }
  },
  "cells": [
    {
      "cell_type": "markdown",
      "metadata": {
        "id": "view-in-github",
        "colab_type": "text"
      },
      "source": [
        "<a href=\"https://colab.research.google.com/github/emptyTuple/test/blob/main/pd.ipynb\" target=\"_parent\"><img src=\"https://colab.research.google.com/assets/colab-badge.svg\" alt=\"Open In Colab\"/></a>"
      ]
    },
    {
      "cell_type": "code",
      "execution_count": 6,
      "metadata": {
        "id": "FpwwGQZCRcwp"
      },
      "outputs": [],
      "source": [
        "import pandas as pd\n",
        "from string import ascii_lowercase"
      ]
    },
    {
      "cell_type": "code",
      "source": [
        "s = pd.Series([23, 45, 67, 52, 90, 67, 98, 31, 11, 91, 99, 53, 77, 53, 86, 17], index=list(ascii_lowercase)[:16])\n",
        "\n",
        "s"
      ],
      "metadata": {
        "id": "Af7l-cAJSW2S",
        "outputId": "178ceadb-87fa-4f41-82f4-81007db28f8b",
        "colab": {
          "base_uri": "https://localhost:8080/"
        }
      },
      "execution_count": 10,
      "outputs": [
        {
          "output_type": "execute_result",
          "data": {
            "text/plain": [
              "a    23\n",
              "b    45\n",
              "c    67\n",
              "d    52\n",
              "e    90\n",
              "f    67\n",
              "g    98\n",
              "h    31\n",
              "i    11\n",
              "j    91\n",
              "k    99\n",
              "l    53\n",
              "m    77\n",
              "n    53\n",
              "o    86\n",
              "p    17\n",
              "dtype: int64"
            ]
          },
          "metadata": {},
          "execution_count": 10
        }
      ]
    },
    {
      "cell_type": "code",
      "source": [
        "s.argmax()"
      ],
      "metadata": {
        "id": "JK9xSItcUnyj",
        "outputId": "cff9d2a2-5dc8-4fc2-9196-88f982ebf789",
        "colab": {
          "base_uri": "https://localhost:8080/"
        }
      },
      "execution_count": 14,
      "outputs": [
        {
          "output_type": "execute_result",
          "data": {
            "text/plain": [
              "10"
            ]
          },
          "metadata": {},
          "execution_count": 14
        }
      ]
    }
  ]
}